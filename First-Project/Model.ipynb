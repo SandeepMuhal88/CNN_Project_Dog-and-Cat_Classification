{
 "cells": [
  {
   "cell_type": "code",
   "execution_count": null,
   "id": "23381544",
   "metadata": {},
   "outputs": [],
   "source": [
    "# %pip install -q kagglehub\n",
    "import kagglehub\n",
    "\n",
    "# Download latest version\n",
    "path = kagglehub.dataset_download(\"salader/dogs-vs-cats\")\n",
    "\n",
    "print(\"Path to dataset files:\", path)"
   ]
  },
  {
   "cell_type": "code",
   "execution_count": null,
   "id": "671807db",
   "metadata": {},
   "outputs": [],
   "source": [
    "import os\n",
    "print(\"Files in the dataset directory:\", os.listdir(path))"
   ]
  },
  {
   "cell_type": "code",
   "execution_count": null,
   "id": "a955ad26",
   "metadata": {},
   "outputs": [],
   "source": [
    "train_df= os.path.join(path, \"train\")\n",
    "print(\"Path to the training data file:\", train_df)\n",
    "# print(\"First few rows of the training data:\")"
   ]
  },
  {
   "cell_type": "code",
   "execution_count": null,
   "id": "496e6a01",
   "metadata": {},
   "outputs": [],
   "source": [
    "test_df=os.path.join(path, \"test\")\n",
    "print(\"Path to the test data file:\", test_df)"
   ]
  },
  {
   "cell_type": "code",
   "execution_count": null,
   "id": "20037a54",
   "metadata": {},
   "outputs": [],
   "source": [
    "import tensorflow\n",
    "from tensorflow import keras\n",
    "from keras import layers\n",
    "from keras import Sequential\n",
    "from keras.layers import Dense, Conv2D, Flatten, MaxPooling2D, Dropout"
   ]
  },
  {
   "cell_type": "code",
   "execution_count": null,
   "id": "47ccc338",
   "metadata": {},
   "outputs": [],
   "source": [
    "# Generators \n",
    "train_ds=keras.utils.image_dataset_from_directory(\n",
    "    directory=train_df,\n",
    "    labels=\"inferred\",\n",
    "    label_mode=\"int\",\n",
    "    batch_size=32,\n",
    "    image_size=(256, 256),\n",
    ")"
   ]
  },
  {
   "cell_type": "code",
   "execution_count": null,
   "id": "12c84a7c",
   "metadata": {},
   "outputs": [],
   "source": [
    "Validation_ds=keras.utils.image_dataset_from_directory(\n",
    "    directory=test_df,\n",
    "    labels=\"inferred\",\n",
    "    label_mode=\"int\",\n",
    "    batch_size=32,\n",
    "    image_size=(256, 256),\n",
    ")"
   ]
  },
  {
   "cell_type": "code",
   "execution_count": null,
   "id": "0113ce7e",
   "metadata": {},
   "outputs": [],
   "source": [
    "#We store the data in numpy arrays\n",
    "#numpy arrays are 0 to 256 its convert into 0 to 1\n",
    "#Normalization\n",
    "import numpy as np\n",
    "def process(image, label):\n",
    "    image = tensorflow.cast(image/255, tensorflow.float32)\n",
    "    return image, label\n",
    "train_ds = train_ds.map(process)\n",
    "Validation_ds = Validation_ds.map(process)"
   ]
  },
  {
   "cell_type": "markdown",
   "id": "6786a847",
   "metadata": {},
   "source": [
    "### Make CNN Model"
   ]
  },
  {
   "cell_type": "code",
   "execution_count": null,
   "id": "b4f90023",
   "metadata": {},
   "outputs": [],
   "source": [
    "# Three convolutional layers\n",
    "\n",
    "model = Sequential()\n",
    "\n",
    "\n",
    "model.add(Conv2D(32,kernel_size=(3,3),padding='valid',activation='relu',input_shape=(256,256,3)))\n",
    "model.add(MaxPooling2D(pool_size=(2,2),strides=(2,2),padding='valid'))\n",
    "model.add(Conv2D(64,kernel_size=(3,3),padding='valid',activation='relu'))\n",
    "model.add(MaxPooling2D(pool_size=(2,2),strides=(2,2),padding='valid'))\n",
    "model.add(Conv2D(128,kernel_size=(3,3),padding='valid',activation='relu'))\n",
    "model.add(MaxPooling2D(pool_size=(2,2),strides=(2,2),padding='valid'))\n",
    "\n",
    "\n",
    "model.add(Flatten())\n",
    "model.add(Dense(128, activation='relu'))\n",
    "model.add(Dense(64,activation='relu'))\n",
    "model.add(Dense(1, activation='sigmoid'))\n"
   ]
  },
  {
   "cell_type": "code",
   "execution_count": null,
   "id": "5e24b61b",
   "metadata": {},
   "outputs": [],
   "source": [
    "model.summary()"
   ]
  },
  {
   "cell_type": "code",
   "execution_count": null,
   "id": "8d30222d",
   "metadata": {},
   "outputs": [],
   "source": [
    "model.compile(optimizer='adam',\n",
    "              loss='binary_crossentropy',\n",
    "              metrics=['accuracy'])"
   ]
  },
  {
   "cell_type": "code",
   "execution_count": null,
   "id": "f5b1d62a",
   "metadata": {},
   "outputs": [],
   "source": [
    "history=model.fit(train_ds,epochs=10,validation_data=Validation_ds)"
   ]
  }
 ],
 "metadata": {
  "kernelspec": {
   "display_name": "Python 3",
   "language": "python",
   "name": "python3"
  },
  "language_info": {
   "codemirror_mode": {
    "name": "ipython",
    "version": 3
   },
   "file_extension": ".py",
   "mimetype": "text/x-python",
   "name": "python",
   "nbconvert_exporter": "python",
   "pygments_lexer": "ipython3",
   "version": "3.10.9"
  }
 },
 "nbformat": 4,
 "nbformat_minor": 5
}
